{
 "cells": [
  {
   "cell_type": "markdown",
   "metadata": {},
   "source": [
    "# Figures 1 and 2\n",
    "\n",
    "Generate figures matching theory and simulation of the propagation of norms and inner products in a random deep neural network."
   ]
  },
  {
   "cell_type": "markdown",
   "metadata": {},
   "source": [
    "## Setup"
   ]
  },
  {
   "cell_type": "code",
   "execution_count": 40,
   "metadata": {},
   "outputs": [
    {
     "name": "stdout",
     "output_type": "stream",
     "text": [
      "Populating the interactive namespace from numpy and matplotlib\n",
      "The autoreload extension is already loaded. To reload it, use:\n",
      "  %reload_ext autoreload\n"
     ]
    },
    {
     "name": "stderr",
     "output_type": "stream",
     "text": [
      "WARNING: pylab import has clobbered these variables: ['f', 'std']\n",
      "`%matplotlib` prevents importing * from pylab and numpy\n"
     ]
    }
   ],
   "source": [
    "%pylab inline\n",
    "%load_ext autoreload\n",
    "%autoreload 2\n",
    "\n",
    "from __future__ import print_function\n",
    "import os, sys\n",
    "from tqdm import tqdm\n",
    "\n",
    "import seaborn as sns\n",
    "sns.set_style(\"whitegrid\")\n",
    "sns.set_context(\"paper\")\n",
    "plt.rcParams['pdf.fonttype'] = 42\n",
    "plt.rcParams['text.usetex'] = True\n",
    "plt.rcParams['text.latex.unicode'] = True\n",
    "plt.rcParams['image.cmap'] = 'viridis'\n",
    "\n",
    "# Add cornet and Theano to path\n",
    "sys.path.insert(0, '../')\n",
    "sys.path.insert(0, '/home/poole/Theano_clean')\n",
    "\n",
    "# Output figure directory\n",
    "figure_dir = \"../writeup/figures\"\n",
    "results_dir = \"../results\"\n",
    "if not os.path.exists(figure_dir):\n",
    "    raise ValueError(\"Figure directory does not exist. Create it or change figure_dir above.\")\n",
    "if not os.path.exists(results_dir):\n",
    "    raise ValueError(\"Results directory does not exist. Create it or change results_dir above.\")"
   ]
  },
  {
   "cell_type": "markdown",
   "metadata": {},
   "source": [
    "## Parameters"
   ]
  },
  {
   "cell_type": "markdown",
   "metadata": {},
   "source": [
    "Choice of nonlinearity, along with its first and second derivatives:"
   ]
  },
  {
   "cell_type": "code",
   "execution_count": 4,
   "metadata": {},
   "outputs": [],
   "source": [
    "from scipy.stats import hypsecant\n",
    "def sech(x):\n",
    "    return hypsecant.pdf(x) * np.pi\n",
    "\n",
    "phi = np.tanh\n",
    "dphi = lambda x: sech(x)**2\n",
    "d2phi = lambda x: 2 * (np.tanh(x)**3 - np.tanh(x))"
   ]
  },
  {
   "cell_type": "markdown",
   "metadata": {},
   "source": [
    "Import useful constants, including the range for $\\sigma_w$ and $\\sigma_b$:"
   ]
  },
  {
   "cell_type": "code",
   "execution_count": 5,
   "metadata": {},
   "outputs": [
    {
     "name": "stdout",
     "output_type": "stream",
     "text": [
      "Weight sigmas (n=41): [ 1.   1.1  1.2  1.3  1.4  1.5  1.6  1.7  1.8  1.9  2.   2.1  2.2  2.3  2.4\n",
      "  2.5  2.6  2.7  2.8  2.9  3.   3.1  3.2  3.3  3.4  3.5  3.6  3.7  3.8  3.9\n",
      "  4.   4.1  4.2  4.3  4.4  4.5  4.6  4.7  4.8  4.9  5. ]\n",
      "Bias sigmas (n=41): [ 0.   0.1  0.2  0.3  0.4  0.5  0.6  0.7  0.8  0.9  1.   1.1  1.2  1.3  1.4\n",
      "  1.5  1.6  1.7  1.8  1.9  2.   2.1  2.2  2.3  2.4  2.5  2.6  2.7  2.8  2.9\n",
      "  3.   3.1  3.2  3.3  3.4  3.5  3.6  3.7  3.8  3.9  4. ]\n"
     ]
    }
   ],
   "source": [
    "from cornet.constants import *\n",
    "print(\"Weight sigmas (n=%d):\" % nw, weight_sigmas)\n",
    "print(\"Bias sigmas (n=%d):\" % nb, bias_sigmas)"
   ]
  },
  {
   "cell_type": "markdown",
   "metadata": {},
   "source": [
    "## Theory for squared length map, $\\mathcal{V}(q^{l-1} | \\sigma_w, \\sigma_b)$"
   ]
  },
  {
   "cell_type": "markdown",
   "metadata": {},
   "source": [
    "Compute fixed points, dynamics, and convergence of the $q$ map.\n",
    "\n",
    "Note: This could be sped up a bunch..."
   ]
  },
  {
   "cell_type": "code",
   "execution_count": 6,
   "metadata": {
    "collapsed": true
   },
   "outputs": [],
   "source": [
    "from cornet.theory import qmap, q_fixed_point"
   ]
  },
  {
   "cell_type": "code",
   "execution_count": 7,
   "metadata": {},
   "outputs": [
    {
     "name": "stderr",
     "output_type": "stream",
     "text": [
      "100%|██████████| 41/41 [02:15<00:00,  3.00s/it]\n"
     ]
    }
   ],
   "source": [
    "# Range of squared lengths for q map plot (panel A)\n",
    "nq = 100\n",
    "qmax = 15\n",
    "qrange = np.linspace(0, qmax, nq)\n",
    "\n",
    "# Number of iterations for the dynamics of convergence plot (panel B)\n",
    "nt = 20\n",
    "\n",
    "# Maximum number of iterations when computing convergence time (panel D)\n",
    "nconverge = 25\n",
    "\n",
    "qconverge = np.linspace(0, qmax, nconverge)\n",
    "qmaps = np.zeros((nw, nb, nq, nt))\n",
    "qstars = np.zeros((nw, nb))\n",
    "tstars = np.zeros((nw, nb, nconverge))\n",
    "qmaps[..., 0] = qrange[None, None, None, :]\n",
    "\n",
    "for widx, weight_sigma in enumerate(tqdm(weight_sigmas)):\n",
    "    for bidx, bias_sigma in enumerate(bias_sigmas):\n",
    "        # Compute fixed points\n",
    "        _, qstars[widx, bidx]  =  q_fixed_point(weight_sigma, bias_sigma, nonlinearity, qinit=3.0, tol_frac=0.01)\n",
    "        # Iterate over initial norms, computing convergence time\n",
    "        for tidx, qinit in enumerate(qconverge):\n",
    "            tstars[widx, bidx, tidx], _  =  q_fixed_point(weight_sigma, bias_sigma, nonlinearity, qinit=qinit, tol_frac=0.01)\n",
    "        # Dynamics of convergence of q map\n",
    "        for t in xrange(1, nt):\n",
    "            qmaps[widx, bidx, :, t] = qmap(qmaps[widx, bidx, :, t - 1], weight_sigma, bias_sigma, nonlinearity)       "
   ]
  },
  {
   "cell_type": "markdown",
   "metadata": {},
   "source": [
    "## Simulations for squared length in a random neural network"
   ]
  },
  {
   "cell_type": "markdown",
   "metadata": {},
   "source": [
    "Create a feedforward fully-connected neural network. Note that here we flip the order of activations and linear layers so that the first operation is the activaiton function."
   ]
  },
  {
   "cell_type": "code",
   "execution_count": 8,
   "metadata": {},
   "outputs": [
    {
     "name": "stderr",
     "output_type": "stream",
     "text": [
      "Using Theano backend.\n"
     ]
    }
   ],
   "source": [
    "from cornet.net import RandNet\n",
    "n_hidden_layers = 1\n",
    "n_hidden_units = 1000\n",
    "din = 1000\n",
    "# Flip flag here chooses whether activations or linear layer is first\n",
    "net = RandNet(din, n_hidden_units, n_hidden_layers, nonlinearity=nonlinearity, flip=True)"
   ]
  },
  {
   "cell_type": "markdown",
   "metadata": {},
   "source": [
    "### Simulate a single layer at a large number of input norms (for panel A)"
   ]
  },
  {
   "cell_type": "code",
   "execution_count": 9,
   "metadata": {},
   "outputs": [
    {
     "name": "stderr",
     "output_type": "stream",
     "text": [
      "100%|██████████| 41/41 [05:02<00:00,  7.38s/it]\n"
     ]
    }
   ],
   "source": [
    "npnts = 20\n",
    "qmap_sim = np.zeros((nw, nb, nq, npnts))\n",
    "for widx, weight_sigma in enumerate(tqdm(weight_sigmas)):\n",
    "    for bidx, bias_sigma in enumerate(bias_sigmas):\n",
    "        net.randomize(bias_sigma=bias_sigma, weight_sigma=weight_sigma)\n",
    "        for norm_idx, qnorm in enumerate(qrange):\n",
    "            xs = np.random.randn(npnts, din) *  np.sqrt(qnorm)\n",
    "            h = net.get_act(xs)\n",
    "            qmap_sim[widx, bidx,norm_idx] = 1.0 / din * (h**2).sum(-1)"
   ]
  },
  {
   "cell_type": "markdown",
   "metadata": {},
   "source": [
    "### Simulate multiple layers at a small set of points (for dynamics in panel B)"
   ]
  },
  {
   "cell_type": "markdown",
   "metadata": {},
   "source": [
    "TODO: use different random matrices at each layer"
   ]
  },
  {
   "cell_type": "code",
   "execution_count": 10,
   "metadata": {},
   "outputs": [
    {
     "name": "stderr",
     "output_type": "stream",
     "text": [
      "100%|██████████| 41/41 [02:06<00:00,  3.09s/it]\n"
     ]
    }
   ],
   "source": [
    "qidx = [26, 53, 80]\n",
    "qnorms = qrange[qidx]\n",
    "nqnorms = len(qnorms)\n",
    "\n",
    "#hout = net.get_act(xs)\n",
    "nlayers = 7\n",
    "qmaps_sim = np.zeros((nw, nb, nqnorms, nlayers, nq))\n",
    "for widx, weight_sigma in enumerate(tqdm(weight_sigmas)):\n",
    "    for bidx, bias_sigma in enumerate(bias_sigmas):\n",
    "        net.randomize(bias_sigma=bias_sigma, weight_sigma=weight_sigma)\n",
    "        for norm_idx, qnorm in enumerate(qnorms):\n",
    "            xs = np.random.randn(nq, din) *  np.sqrt(qnorm)\n",
    "            qmaps_sim[widx, bidx,norm_idx, 0] = 1.0 / din * (xs**2).sum(-1)\n",
    "            for lidx in xrange(1, nlayers):\n",
    "                #XXX: use different weight matrices for each layer, very slow but similar results\n",
    "                #net.randomize(bias_sigma=bias_sigma, weight_sigma=weight_sigma)\n",
    "\n",
    "                xs = net.get_act(xs)\n",
    "                qmaps_sim[widx, bidx, norm_idx, lidx] = 1.0 / din * (xs**2).sum(-1)"
   ]
  },
  {
   "cell_type": "markdown",
   "metadata": {},
   "source": [
    "Some useful plotting functions:"
   ]
  },
  {
   "cell_type": "code",
   "execution_count": 11,
   "metadata": {
    "collapsed": true
   },
   "outputs": [],
   "source": [
    "from cornet.viz import get_pal, add_label, pcolor, sigma_pcolor\n",
    "def plot_qmaps(qrange, qmaps, widxs, bidxs, vmax=15, **plot_kwargs):\n",
    "    for ii, (widx, bidx) in enumerate(zip(widxs, bidxs)):\n",
    "        if qmaps.ndim == 4:\n",
    "            for qidx in xrange(qmaps.shape[-2]):\n",
    "                plot(qrange, qmaps[widx, bidx, qidx], **plot_kwargs)\n",
    "        else:\n",
    "            plot(qrange, qmaps[widx, bidx], **plot_kwargs)\n",
    "    vmax = 15\n",
    "    xticks([0, 5, 10, 15])\n",
    "    yticks([0, 5, 10, 15])\n",
    "    xlim(0, vmax); ylim(0, vmax)\n",
    "    xlabel('input length ($q^{l-1})$')\n",
    "    ylabel('output length ($q^l$)')"
   ]
  },
  {
   "cell_type": "markdown",
   "metadata": {},
   "source": [
    "# Figure 1:  Dynamics of the squared length $q^l$\n",
    "(A) The iterative length map for 3 different $\\sigma_w$ at $\\sigma_b=0.3$. Theoretical predictions (solid lines) match well with individual network simulations (dots). Stars reflect fixed points $q^*$ of the map. (B) The iterative dynamics of the length map yields rapid convergence of $q^l$ to  $q^*$ , independent of initial condition (lines=theory; dots=simulation).  (C) $q^*$ as a function of $\\sigma_w$ and $\\sigma_b$. (D) Number of iterations required to achieve $\\leq$ 1% fractional deviation off the fixed point.  The $(\\sigma_b,\\sigma_w)$ pairs in (A,B) are marked with color matched circles in (C,D)."
   ]
  },
  {
   "cell_type": "code",
   "execution_count": 12,
   "metadata": {},
   "outputs": [
    {
     "data": {
      "image/png": "[encoded data removed]",
      "text/plain": [
       "<matplotlib.figure.Figure at 0x7f9b84c20390>"
      ]
     },
     "metadata": {},
     "output_type": "display_data"
    }
   ],
   "source": [
    "figure(figsize=(9, 2))\n",
    "gs = GridSpec(1, 4)\n",
    "qmax_plot = 15\n",
    "tmax = 6\n",
    "p1 = get_pal(len(widxs), 1)\n",
    "p2 = get_pal(len(widxs), 1)\n",
    "sns.set_palette(np.vstack((p1, p2)))\n",
    "\n",
    "# Panel A - qmap\n",
    "subplot(gs[0, 0])\n",
    "plot_qmaps(qrange, qmaps[..., 1], widxs, bidxs, lw=2)\n",
    "plot_qmaps(qrange, qmap_sim[..., :].mean(-1), widxs, bidxs, marker='o', ls='none', markersize=1, alpha=0.9, zorder=0)\n",
    "for ii, (widx, bidx) in enumerate(zip(widxs, bidxs)):\n",
    "    mu = qmap_sim[widx,bidx ,:, : ].mean(-1)\n",
    "    std = qmap_sim[widx, bidx,:, : ].std(-1)\n",
    "    fill_between(qrange, mu-std, mu+std, alpha=0.2, label='_nolegend_', color=p1[ii])\n",
    "\n",
    "# Add unity line\n",
    "plot((0, qmax), (0, qmax), '--', color='k', zorder=900)\n",
    "for i, (widx, bidx) in enumerate(zip(widxs, bidxs)):\n",
    "    scatter(qstars[widx, bidx], qstars[widx, bidx], s=75, marker= '*', c=p1[i], zorder=999, alpha=1.0, clip_on=False)\n",
    "ylim(0, qmax_plot)\n",
    "add_label('A')\n",
    "title(r'iterative length map\\\\$\\phantom\\qquad\\phantom\\;\\mathcal{V}\\left(q^{l-1} \\vert \\sigma_w, \\sigma_b\\right)$')\n",
    "lgd = legend(['$\\sigma_w=%.1f$'%weight_sigmas[widx] for widx in widxs], bbox_to_anchor=(2.0, -.4), fancybox=False, frameon=False, ncol=len(widxs))\n",
    "\n",
    "\n",
    "# Panel B - dynamics of convergence\n",
    "pal = get_pal(len(widxs), len(qidx))\n",
    "subplot(gs[0, 1])\n",
    "xx = np.arange(nlayers)\n",
    "for i in xrange(3):          \n",
    "    for pidx, (widx, bidx) in enumerate(zip(widxs, bidxs)):\n",
    "        if i == 1:\n",
    "            plot(qmaps[widx, bidx, qidx, :].T, '-', markersize=3, alpha=1.0)       \n",
    "        elif i==0:\n",
    "            mu = qmaps_sim[widx,bidx ,:, : ].mean(-1)\n",
    "            std = qmaps_sim[widx, bidx,:, : ].std(-1)\n",
    "            for j in xrange(mu.shape[0]):\n",
    "                fill_between(xx, mu[j]-std[j], mu[j]+std[j], alpha=0.2, label='_nolegend_', color=pal[pidx*mu.shape[0]+j])\n",
    "        elif i == 2:\n",
    "            mu = qmaps_sim[widx,bidx ,:, : ].mean(-1)\n",
    "            plot(xx, mu.T, 'o', markersize=4, label='_nolegend_', alpha=0.9)\n",
    "\n",
    "\n",
    "xlabel('iteration ($l$)')\n",
    "ylabel('length ($q^{l})$')\n",
    "title('dynamics of $q$')\n",
    "yticks([0, 5, 10])\n",
    "ylim(0, qmax)\n",
    "xlim(0, tmax)\n",
    "add_label('B')\n",
    "\n",
    "\n",
    "# Panel C - q*\n",
    "subplot(gs[0, 2])\n",
    "sigma_pcolor(qstars, weight_sigmas, bias_sigmas)\n",
    "title('length at fixed point\\n$q^*(\\sigma_w, \\sigma_b)$')\n",
    "add_label('C')\n",
    "# add dots for lines from panel A\n",
    "p1 = get_pal(len(widxs), 1)\n",
    "for i, (widx, bidx) in enumerate(zip(widxs, bidxs)):\n",
    "    scatter(bias_sigmas[bidx], weight_sigmas[widx], s=25, marker= 'o', c=p1[i])\n",
    "xlim(0, bmax); ylim(1, wmax)\n",
    "\n",
    "\n",
    "# Panel D - time to convergence\n",
    "subplot(gs[0, 3])\n",
    "sigma_pcolor(tstars.mean(-1), weight_sigmas, bias_sigmas, vmax=tmax)\n",
    "xlim(0, bmax); ylim(1, wmax)\n",
    "# add dots for lines from panel A\n",
    "p1 = get_pal(len(widxs), 1)\n",
    "for i, (widx, bidx) in enumerate(zip(widxs, bidxs)):\n",
    "    scatter(bias_sigmas[bidx], weight_sigmas[widx], s=25, marker= 'o', c=p1[i])\n",
    "title('average iterations\\nto convergence')\n",
    "add_label('D')\n",
    "\n",
    "gcf().tight_layout()\n",
    "savefig(os.path.join(figure_dir, \"fig1_qmap.pdf\" ), bbox_extra_artists=(lgd,), bbox_inches='tight')"
   ]
  },
  {
   "cell_type": "markdown",
   "metadata": {},
   "source": [
    "## Theory for covariance propagation and curvature"
   ]
  },
  {
   "cell_type": "markdown",
   "metadata": {},
   "source": [
    "### Covariance propagation"
   ]
  },
  {
   "cell_type": "code",
   "execution_count": null,
   "metadata": {
    "collapsed": true
   },
   "outputs": [],
   "source": [
    "from cornet.theory import covmap"
   ]
  },
  {
   "cell_type": "code",
   "execution_count": null,
   "metadata": {
    "collapsed": true
   },
   "outputs": [],
   "source": [
    "nq = 51\n",
    "c12s = np.linspace(0, 1.0, nq)\n",
    "crange = c12s"
   ]
  },
  {
   "cell_type": "code",
   "execution_count": 17,
   "metadata": {},
   "outputs": [
    {
     "name": "stderr",
     "output_type": "stream",
     "text": [
      "100%|██████████| 41/41 [08:14<00:00, 10.60s/it]\n"
     ]
    }
   ],
   "source": [
    "cmaps = np.zeros((nw, nb, nq))\n",
    "cstars = np.zeros((nw, nb))\n",
    "for widx, weight_sigma in enumerate(tqdm(weight_sigmas)):\n",
    "    for bidx, bias_sigma in enumerate(bias_sigmas):\n",
    "        #q_fixed_points[widx, bidx] = q_fixed_point(weight_sigma, bias_sigma, nonlinearity, fast=True)\n",
    "        q1 = qstars[widx, bidx]\n",
    "        cin = (c12s * q1)\n",
    "        cout = covmap(q1, q1,  cin, weight_sigma, bias_sigma, nonlinearity)\n",
    "        cmaps[widx, bidx, :] = cout\n",
    "        # Remove  fixed point at cin = q*\n",
    "        cstar = cin[np.argmin(np.abs(cin[:-1] - cout[:-1]))]\n",
    "        cstars[widx, bidx] = cstar\n",
    "        \n",
    "cstars_unnormalized = cstars.copy()\n",
    "cstars /= qstars\n",
    "\n",
    "cmaps_unnormalized = cmaps.copy()\n",
    "cmaps /= qstars[:, :, None]"
   ]
  },
  {
   "cell_type": "code",
   "execution_count": 18,
   "metadata": {
    "collapsed": true
   },
   "outputs": [],
   "source": [
    "save_data = False\n",
    "load_data = False\n",
    "qcmap_fn = os.path.join(results_dir, \"q_c_maps.npz\")\n",
    "if save_data:\n",
    "    np.savez(qcmap_fn, weight_sigmas=weight_sigmas, bias_sigmas=bias_sigmas, cstars=cstars, qstars=qstars, cmaps=cmaps, qmaps=qmaps)\n",
    "if load_data:\n",
    "    f = np.load(qcmap_fn)\n",
    "    locals().update({k:f[k] for k in f.keys()})"
   ]
  },
  {
   "cell_type": "markdown",
   "metadata": {},
   "source": [
    "### Covariance dynamics for subset of points"
   ]
  },
  {
   "cell_type": "code",
   "execution_count": 22,
   "metadata": {},
   "outputs": [
    {
     "name": "stderr",
     "output_type": "stream",
     "text": [
      "100%|██████████| 3/3 [00:04<00:00,  1.60s/it]\n"
     ]
    }
   ],
   "source": [
    "cin = crange_traj = np.array([0.2, 0.5, 0.8])\n",
    "nctraj = len(cin)\n",
    "nt = 31\n",
    "ctrajs = np.zeros((len(widxs), nctraj, nt))\n",
    "for i, (widx, bidx) in enumerate(tqdm(zip(widxs, bidxs))):\n",
    "    q1 = qstars[widx, bidx]\n",
    "    ctrajs[i, :, 0] = cin * q1\n",
    "    for t in xrange(1, nt):\n",
    "        ctrajs[i, :, t] = covmap(q1, q1, ctrajs[i, :, t-1], weight_sigmas[widx], bias_sigmas[bidx], nonlinearity)\n",
    "    ctrajs[i] /= q1\n",
    "ctrajs_ = ctrajs.copy()\n",
    "ctrajs = np.zeros((nw, nb, nctraj, nt))\n",
    "for i, (widx, bidx) in enumerate(zip(widxs, bidxs)):\n",
    "    ctrajs[widx, bidx] = ctrajs_[i]"
   ]
  },
  {
   "cell_type": "markdown",
   "metadata": {},
   "source": [
    "### Theory for curvature propagation"
   ]
  },
  {
   "cell_type": "code",
   "execution_count": 28,
   "metadata": {},
   "outputs": [],
   "source": [
    "from cornet.theory import compute_chi1, compute_chi2, kappa_map"
   ]
  },
  {
   "cell_type": "code",
   "execution_count": 29,
   "metadata": {},
   "outputs": [
    {
     "name": "stderr",
     "output_type": "stream",
     "text": [
      "100%|██████████| 41/41 [01:54<00:00,  3.31s/it]\n"
     ]
    }
   ],
   "source": [
    "chi1 = np.zeros((nw, nb))\n",
    "chi2 = np.zeros((nw, nb))\n",
    "q_fixed_points = np.zeros((nw, nb))\n",
    "n_layers = 31 # only plot up to layer 30 in panel 2B\n",
    "kappas = np.zeros((nw, nb, n_layers))\n",
    "g2s = np.zeros((nw, nb, n_layers))\n",
    "\n",
    "for widx, weight_sigma in enumerate(tqdm(weight_sigmas)):\n",
    "    for bidx, bias_sigma in enumerate(bias_sigmas):\n",
    "        _, q_fixed_points[widx, bidx] = q_fixed_point(weight_sigma, bias_sigma, nonlinearity, fast=True)\n",
    "\n",
    "        g0 =  q_fixed_points[widx, bidx]# / din\n",
    "        kappa0 =  1./((q_fixed_points[widx, bidx]) * din)\n",
    "        g2s[widx, bidx, 0] = g0\n",
    "        kappas[widx, bidx] = kappa0\n",
    "        chi1[widx, bidx] = compute_chi1(q_fixed_points[widx, bidx], weight_sigma, bias_sigma, dphi)\n",
    "        chi2[widx, bidx] = compute_chi2(q_fixed_points[widx, bidx], weight_sigma, bias_sigma, d2phi, hidden_units=n_hidden_units)\n",
    "        for lidx in xrange(1, n_layers):\n",
    "            kappas[widx, bidx, lidx] = kappa_map(kappas[widx, bidx, lidx  -1], chi1[widx, bidx], chi2[widx, bidx])\n",
    "            g2s[widx, bidx, lidx] = chi1[widx, bidx] * g2s[widx, bidx, lidx -1]"
   ]
  },
  {
   "cell_type": "markdown",
   "metadata": {},
   "source": [
    "# Figure 2: Dynamics of correlations, $c_{12}^l$, in a tanh network\n",
    "(A) The $\\mathcal C$-map for the same $\\sigma_w$ and $\\sigma_b$ as in Figure 1A. (B) The $\\mathcal C$-map dynamics, derived from both theory and numerical simulations with $N_l = 1000$ (dots) (C) Fixed points $c^*$ of the $\\mathcal C$-map.  (D)  The slope of the $\\mathcal C$-map at $1$, $\\chi_1$, partitions the space (black dotted line at $\\chi_1=1$) into chaotic ($\\chi_1 > 1$) and ordered ($\\chi_1 < 1$) regions."
   ]
  },
  {
   "cell_type": "code",
   "execution_count": 38,
   "metadata": {},
   "outputs": [],
   "source": [
    "# Generated in Figures 3 & 4 notebook\n",
    "autocorr_data_fn = os.path.join(results_dir, \"autocorr.npz\")\n",
    "if not os.path.exists(autocorr_data_fn):\n",
    "    print(\"Warning: simulations for the dynamics of the correlation map not found. Simulations will not be plotted.\"\n",
    "          \"Run Figure 3/4 notebook first to generate data.\")\n",
    "else:\n",
    "    f = np.load(autocorr_data_fn)\n",
    "    acorr_mu = f['acorr_mu'].squeeze()\n",
    "    acorr_std = f['acorr_std'].squeeze()\n",
    "    acorr_ts = f['ts']"
   ]
  },
  {
   "cell_type": "code",
   "execution_count": 39,
   "metadata": {},
   "outputs": [
    {
     "data": {
      "image/png": "[encoded data removed]",
      "text/plain": [
       "<matplotlib.figure.Figure at 0x7f9b76a185d0>"
      ]
     },
     "metadata": {},
     "output_type": "display_data"
    }
   ],
   "source": [
    "figure(figsize=(9, 2))\n",
    "gs = GridSpec(1, 4)\n",
    "qmax_plot = 15\n",
    "tmax = 6\n",
    "p1 = get_pal(len(widxs), 1)\n",
    "p2 = get_pal(len(widxs), 1)\n",
    "sns.set_palette(np.vstack((p1, p2)))\n",
    "\n",
    "\n",
    "# Panel A - qmap\n",
    "ax = subplot(gs[0, 0])\n",
    "#sns.palplot(sns.)\n",
    "plot_qmaps(crange, cmaps, widxs, bidxs, lw=2)\n",
    "#plot_qmaps(qrange, qmaps_sim[..., :], widxs, bidxs, marker='o', ls='none', markersize=3, alpha=0.5, zorder=0)\n",
    "xticks([0, 0.5, 1.0])\n",
    "yticks([0, 0.5, 1.0])\n",
    "xlabel('input corr. ($c^{l-1})$')\n",
    "ylabel('output corr.  ($c^{l}$)')\n",
    "# Add unity line\n",
    "plot((0, 1), (0, 1), '--', color='k', zorder=900)\n",
    "xlim(0, 1); ylim(0, 1)\n",
    "axis('tight')\n",
    "for i, (widx, bidx) in enumerate(zip(widxs, bidxs)):\n",
    "    scatter(cstars[widx, bidx], cstars[widx, bidx], s=75, marker= '*', c=p1[i], zorder=999, alpha=1.0, clip_on=False)\n",
    "    \n",
    "if 0:\n",
    "    from mpl_toolkits.axes_grid1.inset_locator import mark_inset, inset_axes\n",
    "    axins = inset_axes(ax, width=\"40%\", height=\"40%\", loc=2, borderpad=0.3)\n",
    "    plot_qmaps(crange, cmaps, widxs, bidxs, lw=2)\n",
    "    plot((0, 1), (0, 1), '--', color='k')\n",
    "    axins.set_xlim(0.05, 0.3)\n",
    "    axins.set_ylim(0.05, 0.3)\n",
    "    mark_inset(ax, axins, loc1=2, loc2=4, fc=\"none\", ec=\"0.5\")\n",
    "    xlabel(''); ylabel(''); xticks([]); yticks([])\n",
    "    for i, (widx, bidx) in enumerate(zip(widxs, bidxs)):\n",
    "        scatter(cstars[widx, bidx], cstars[widx, bidx], s=150, marker= '*', c=p1[i], zorder=999, alpha=0.7)\n",
    "    sca(ax)\n",
    "    \n",
    "add_label('A')\n",
    "title(r'iterative correlation map')#\\\\$\\phantom\\qquad\\phantom\\;c_{12}^l$')\n",
    "lgd = legend(['$\\sigma_w=%.1f$'%weight_sigmas[widx] for widx in widxs], bbox_to_anchor=(2.0, -.4), fancybox=False, frameon=False, ncol=len(widxs))\n",
    "\n",
    "\n",
    "\n",
    "# Panel B - dynamics of convergence\n",
    "qidx = np.arange(ctrajs.shape[2])\n",
    "pal = get_pal(len(widxs), len(qidx))\n",
    "#sns.palplot(sns.color_palette());\n",
    "subplot(gs[0, 1])\n",
    "xx = np.arange(0, acorr_mu.shape[-1])\n",
    "for pidx, (widx, bidx) in enumerate(zip(widxs, bidxs)):\n",
    "    plot(ctrajs[widx, bidx, qidx, :].T, '-', markersize=1.5, alpha=1.0)\n",
    "    \n",
    "for i in xrange(3):          \n",
    "    for pidx, (widx, bidx) in enumerate(zip(widxs, bidxs)):\n",
    "        # Find indices corresponding to closest starting correlation value\n",
    "        idx = np.argmin(np.abs(cin[None, :] - acorr_mu[pidx, :, 0][:, None]), axis=0)\n",
    "        if i == 1:\n",
    "            plot(ctrajs[widx, bidx, qidx, :].T, '-', markersize=1.5, alpha=1.0)\n",
    "        elif i==0:\n",
    "            mu = acorr_mu[pidx, idx, :]\n",
    "            std = acorr_std[pidx, idx, :]\n",
    "            for j in xrange(nctraj):\n",
    "                fill_between(xx, mu[j]-std[j], mu[j]+std[j], alpha=0.2, label='_nolegend_', color=pal[pidx*nctraj+j])\n",
    "\n",
    "        elif i == 2:\n",
    "            plot(xx, acorr_mu[pidx, idx, :].T, 'o', markersize=2, label='_nolegend_')\n",
    "\n",
    "xlabel('iteration ($l$)')\n",
    "ylabel('correlation ($c^{l})$')\n",
    "title('dynamics of $c$')\n",
    "yticks([0, 0.5, 1])\n",
    "ylim(0, 1)\n",
    "xlim(0, nt - 1)\n",
    "add_label('B')\n",
    "\n",
    "\n",
    "# Panel C - q*\n",
    "subplot(gs[0, 2])\n",
    "sigma_pcolor(cstars, weight_sigmas, bias_sigmas)\n",
    "title('correlation at fixed point\\n$c^*(\\sigma_w, \\sigma_b)$')\n",
    "add_label('C')\n",
    "# add chi1=1 contour\n",
    "cf = contour(bias_sigmas, weight_sigmas, chi1, levels=[1.0],\n",
    "              cmap=cm.gray, zorder=1, linestyles='dotted')\n",
    "# add dots for lines from panel A\n",
    "p1 = get_pal(len(widxs), 1)\n",
    "for i, (widx, bidx) in enumerate(zip(widxs, bidxs)):\n",
    "    scatter(bias_sigmas[bidx], weight_sigmas[widx], s=25, marker= 'o', c=p1[i])\n",
    "xlim(0, bmax); ylim(1, wmax)\n",
    "\n",
    "\n",
    "# Panel D - time to convergence\n",
    "ax = subplot(gs[0, 3])\n",
    "sigma_pcolor(chi1, weight_sigmas, bias_sigmas, draw_colorbar=False)\n",
    "colorbar(ticks=(0, 1, 2, 3))\n",
    "cf = contour(bias_sigmas, weight_sigmas, chi1, levels=[1.0],\n",
    "                  cmap=cm.gray, zorder=1, linestyles='dotted')\n",
    "xlim(0, bmax); ylim(1, wmax)\n",
    "# add dots for lines from panel A\n",
    "p1 = get_pal(len(widxs), 1)\n",
    "for i, (widx, bidx) in enumerate(zip(widxs, bidxs)):\n",
    "    scatter(bias_sigmas[bidx], weight_sigmas[widx], s=25, marker= 'o', c=p1[i])\n",
    "title('$\\chi_{1}$')\n",
    "add_label('D')\n",
    "\n",
    "#plt.subplots_adjust(wspace=0.4)\n",
    "gcf().tight_layout()\n",
    "\n",
    "savefig(os.path.join(figure_dir, \"fig2_cmap.pdf\" ), bbox_extra_artists=(lgd,), bbox_inches='tight')"
   ]
  }
 ],
 "metadata": {
  "kernelspec": {
   "display_name": "Python 3 (ipykernel)",
   "language": "python",
   "name": "python3"
  },
  "language_info": {
   "codemirror_mode": {
    "name": "ipython",
    "version": 3
   },
   "file_extension": ".py",
   "mimetype": "text/x-python",
   "name": "python",
   "nbconvert_exporter": "python",
   "pygments_lexer": "ipython3",
   "version": "3.10.4"
  }
 },
 "nbformat": 4,
 "nbformat_minor": 1
}
